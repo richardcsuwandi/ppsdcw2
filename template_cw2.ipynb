{
  "nbformat": 4,
  "nbformat_minor": 0,
  "metadata": {
    "colab": {
      "name": "template_cw2.ipynb",
      "provenance": [],
      "collapsed_sections": [],
      "authorship_tag": "ABX9TyO/xSz8BY7aowoz3g6bUE76",
      "include_colab_link": true
    },
    "kernelspec": {
      "name": "python3",
      "display_name": "Python 3"
    },
    "language_info": {
      "name": "python"
    }
  },
  "cells": [
    {
      "cell_type": "markdown",
      "metadata": {
        "id": "view-in-github",
        "colab_type": "text"
      },
      "source": [
        "<a href=\"https://colab.research.google.com/github/richardcsuwandi/ppsdcw2/blob/main/template_cw2.ipynb\" target=\"_parent\"><img src=\"https://colab.research.google.com/assets/colab-badge.svg\" alt=\"Open In Colab\"/></a>"
      ]
    },
    {
      "cell_type": "markdown",
      "source": [
        "# Data Analysis with Python\n",
        "\n",
        "By: [Richard Cornelius Suwandi](https://richardcsuwandi.github.io/)\n",
        "\n",
        "<img src=\"https://www.digitalvidya.com/wp-content/uploads/2018/01/Image.jpg\" width=\"400\" height=\"250\" />\n"
      ],
      "metadata": {
        "id": "mvl6ngH-3wd6"
      }
    },
    {
      "cell_type": "markdown",
      "source": [
        "## Apa itu Data Analysis?\n",
        "> A process of inspecting, cleansing, transforming, and modeling data with the goal of **discovering useful information, informing conclusion, and supporting decision-making**. ([Wikipedia)](https://en.wikipedia.org/wiki/Data_analysis)\n",
        "\n",
        "<img src=\"https://upload.wikimedia.org/wikipedia/commons/thumb/b/ba/Data_visualization_process_v1.png/525px-Data_visualization_process_v1.png\" width=400 height=300/>"
      ],
      "metadata": {
        "id": "Cwlbw0sp9Wxn"
      }
    },
    {
      "cell_type": "markdown",
      "source": [
        "## Mengapa Python?\n",
        "Berikut adalah 3 alasan mengapa Python cocok untuk data analysis:\n",
        "1. Python adalah salah satu bahasa pemrograman yang relatif **mudah untuk dipelajari**\n",
        "2. Python dilengkapi dengan **banyak libraries dan tools** yang memudahkan proses data analysis\n",
        "3. Python didukung oleh **komunitas yang besar dan aktif**"
      ],
      "metadata": {
        "id": "gXJiXhfH6ZCx"
      }
    },
    {
      "cell_type": "markdown",
      "source": [
        "## Libraries dan Tools untuk Data Analysis\n",
        "Python memiliki banyak libraries dan tools yang dapat digunakan dalam proses data analysis, antara lainnya yaitu:\n",
        "- **NumPy & SciPy**: Numerical computing\n",
        "- **Pandas**: Data manipulation\n",
        "- **Matplotlib & Seaborn**: Data visualization\n",
        "- **Scikit-learn**: Machine learning\n",
        "\n",
        "<img src=\"https://i2.wp.com/makemeanalyst.com/wp-content/uploads/2017/09/Python-libraries-for-data-analysis.png?zoom=1.5&resize=602%2C253\" width=500 height=200/>"
      ],
      "metadata": {
        "id": "cdvxUNLiBx0k"
      }
    },
    {
      "cell_type": "markdown",
      "source": [
        "## Studi Kasus\n",
        "Pada workshop kali ini, kita akan menganalisa data *'Bike Sales'* yaitu data penjualan dari sebuah toko sepeda. Dataset yang akan kita gunakan dapat didownload melalui link [ini](https://github.com/richardcsuwandi/ppsdcw2/blob/main/bike_sales.csv)\n",
        "\n",
        "<img src=\"https://www.flokq.com/blog/wp-content/uploads/2020/07/bicycle.jpg\" width=500 height=300/>\n",
        "\n",
        "Pertama-tama, mari kita import terlebih dahulu library-library yang akan kita gunakan dalam proses data analysis:"
      ],
      "metadata": {
        "id": "ykZsu4e3Eh77"
      }
    },
    {
      "cell_type": "code",
      "source": [
        "# Import library-library yang akan digunakan\n"
      ],
      "metadata": {
        "id": "dOy4vk8CFgNx"
      },
      "execution_count": null,
      "outputs": []
    },
    {
      "cell_type": "markdown",
      "source": [
        "### Membaca Data\n",
        "Selanjutnya, kita dapat membaca data kita menggunakan fungsi `pd.read_<file type>()` yang terdapat di Pandas. Sebagai contoh, untuk membaca file `.csv` kita dapat menggunakan fungsi `pd.read_csv()`\n",
        "\n",
        "Baca lebih lanjut [disini](https://pandas.pydata.org/pandas-docs/stable/reference/io.html)"
      ],
      "metadata": {
        "id": "h5EusqyHGdcf"
      }
    },
    {
      "cell_type": "code",
      "source": [
        "# Membaca data\n"
      ],
      "metadata": {
        "id": "-tPZg4DxGrxZ"
      },
      "execution_count": null,
      "outputs": []
    },
    {
      "cell_type": "markdown",
      "source": [
        "### Melihat Data\n",
        "Berikut adalah beberapa fungsi dasar untuk melihat data di Pandas:\n",
        "- `head(n)` : Berfungsi untuk melihat data sebanyak n pada baris awal (jika tidak diisi, secara default n = 5)\n",
        "- `tail(n)`: Berfungsi untuk melihat data sebanyak n pada baris akhir (jika tidak diisi, secara default n = 5)\n",
        "- `shape` : Melihat jumlah baris dan kolom\n",
        "- `info()` : Menampilkan nomor index beserta tipe datanya\n",
        "- `describe()` : Menunjukkan rangkuman statistik seperti rata-rata, median, dll pada kolom"
      ],
      "metadata": {
        "id": "2dokglvHHlfe"
      }
    },
    {
      "cell_type": "code",
      "source": [
        "# Menggunakan head\n"
      ],
      "metadata": {
        "id": "H-10a_7HH_jH"
      },
      "execution_count": null,
      "outputs": []
    },
    {
      "cell_type": "code",
      "source": [
        "# Menggunakan tail\n"
      ],
      "metadata": {
        "id": "TDrtwPypIFtp"
      },
      "execution_count": null,
      "outputs": []
    },
    {
      "cell_type": "code",
      "source": [
        "# Menggunakan shape\n"
      ],
      "metadata": {
        "id": "vpKGd6kyIIja"
      },
      "execution_count": null,
      "outputs": []
    },
    {
      "cell_type": "code",
      "source": [
        "# Menggunakan info\n"
      ],
      "metadata": {
        "id": "NHsLC8m1IOtp"
      },
      "execution_count": null,
      "outputs": []
    },
    {
      "cell_type": "code",
      "source": [
        "# Menggunakan describe\n"
      ],
      "metadata": {
        "id": "U2PAdaN4IXRk"
      },
      "execution_count": null,
      "outputs": []
    },
    {
      "cell_type": "markdown",
      "source": [
        "### Memilih Data\n",
        "Terdapat dua metode untuk memilih baris dan kolom di Pandas, yaitu menggunakan `iloc` dan `loc`. Secara singkat, `iloc` memilih data berdasarkan indeks/posisi nya, sedangkan `loc` memilih data berdasarkan dengan labelnya."
      ],
      "metadata": {
        "id": "Fy2kaewRQTcB"
      }
    },
    {
      "cell_type": "markdown",
      "source": [
        "#### 1. iloc\n",
        "Kita dapat memilih baris dan kolom dengan `iloc` menggunakan syntax seperti berikut:\n",
        "\n",
        "`data.iloc[indeks baris, indeks kolom]`"
      ],
      "metadata": {
        "id": "DK-3PcueQjzk"
      }
    },
    {
      "cell_type": "code",
      "source": [
        "# Memilih baris dan kolom menggunakan iloc\n"
      ],
      "metadata": {
        "id": "CUMfGz7KQorA"
      },
      "execution_count": null,
      "outputs": []
    },
    {
      "cell_type": "code",
      "source": [
        "# Memilih baris menggunakan iloc\n"
      ],
      "metadata": {
        "id": "GcFO8GhmQ5gh"
      },
      "execution_count": null,
      "outputs": []
    },
    {
      "cell_type": "code",
      "source": [
        "# Memilih kolom menggunakan iloc\n"
      ],
      "metadata": {
        "id": "pMe5-WlRQ_Qd"
      },
      "execution_count": null,
      "outputs": []
    },
    {
      "cell_type": "code",
      "source": [
        "# Memilih beberapa baris dan kolom menggunakan iloc\n"
      ],
      "metadata": {
        "id": "gtEglXTgRDg3"
      },
      "execution_count": null,
      "outputs": []
    },
    {
      "cell_type": "markdown",
      "source": [
        "#### 2. loc\n",
        "Kita dapat memilih baris dan kolom dengan `loc` menggunakan syntax seperti berikut:\n",
        "\n",
        "`data.loc[indeks baris, nama kolom]`"
      ],
      "metadata": {
        "id": "0HZ9kZxZRSB7"
      }
    },
    {
      "cell_type": "code",
      "source": [
        "# Memilih baris dan kolom menggunakan loc\n"
      ],
      "metadata": {
        "id": "iy4Jr7PrRRf-"
      },
      "execution_count": null,
      "outputs": []
    },
    {
      "cell_type": "code",
      "source": [
        "# Memilih kolom menggunakan loc\n"
      ],
      "metadata": {
        "id": "hXeb8G3hRbwm"
      },
      "execution_count": null,
      "outputs": []
    },
    {
      "cell_type": "code",
      "source": [
        "# Memilih beberapa baris dan kolom menggunakan loc\n"
      ],
      "metadata": {
        "id": "Z0MnWHW7RkQb"
      },
      "execution_count": null,
      "outputs": []
    },
    {
      "cell_type": "markdown",
      "source": [
        "Note: \n",
        "\n",
        "`iloc` menggunakan aturan indexing yang sama dengan Python dimana elemen pertama pada range diikutkan sedangkan elemen terakhir tidak diikutkan Sehingga untuk range `0:5`, `iloc` akan memilih  elemen 0,1,2,3,4. \n",
        "\n",
        "Sedangkan, `loc` mengikutsertakan elemen terakhir pada range sehingga untuk range `0:5` yang dipilih adalah elemen 0,1,2,3,4,5."
      ],
      "metadata": {
        "id": "Mzr3sKynRucZ"
      }
    },
    {
      "cell_type": "markdown",
      "source": [
        "#### **Latihan**\n",
        "Gunakan `iloc` atau `loc` untuk memilih 100 baris pertama dengan kolom `Product`, `Unit_Price`, dan 'Order_Quantity`"
      ],
      "metadata": {
        "id": "psrvV0CCR7Ax"
      }
    },
    {
      "cell_type": "code",
      "source": [
        "# Jawaban:\n"
      ],
      "metadata": {
        "id": "ickprNBcSTpf"
      },
      "execution_count": null,
      "outputs": []
    },
    {
      "cell_type": "markdown",
      "source": [
        "### Memfilter Data\n",
        "Kita bisa memfilter atau menyeleksi data berdasarkan kondisi. Beberapa orang menyebutnya *Boolean Selection* atau *Boolean Indexing* karena kita menggunakan logika yang sama seperti ketika kita ingin membuat kondisi pada if else."
      ],
      "metadata": {
        "id": "uTiR3jorS-qF"
      }
    },
    {
      "cell_type": "code",
      "source": [
        "# Memfilter data berdasarkan jenis kelamin\n"
      ],
      "metadata": {
        "id": "4aT4ObxcTSV0"
      },
      "execution_count": null,
      "outputs": []
    },
    {
      "cell_type": "code",
      "source": [
        "# Memfilter data berdasarkan usia\n"
      ],
      "metadata": {
        "id": "jCQSGAiATZr5"
      },
      "execution_count": null,
      "outputs": []
    },
    {
      "cell_type": "markdown",
      "source": [
        "Untuk memfilter data dengan lebih dari satu kondisi, kita dapat menggunakan:\n",
        "- Simbol `&` untuk `dan`\n",
        "- Simbol `|` untuk `atau`"
      ],
      "metadata": {
        "id": "hh2r7RAzTmtI"
      }
    },
    {
      "cell_type": "code",
      "source": [
        "# Memfilter data berdasarkan jenis kelamin dan usia\n"
      ],
      "metadata": {
        "id": "RprA6y38TmQU"
      },
      "execution_count": null,
      "outputs": []
    },
    {
      "cell_type": "markdown",
      "source": [
        "Kita dapat menggunakan fungsi `isin` untuk memilih data yang nilainya terdapat dalam sebuah list."
      ],
      "metadata": {
        "id": "fBasnGOcUByc"
      }
    },
    {
      "cell_type": "code",
      "source": [
        "# Menggunakan isin\n"
      ],
      "metadata": {
        "id": "B9is_mhmUCnB"
      },
      "execution_count": null,
      "outputs": []
    },
    {
      "cell_type": "markdown",
      "source": [
        "#### **Latihan**\n",
        "Dapatkan seluruh data penjualan di negara `Australia` untuk pelanggan dalam kelompok umur `Adults (35-64)`"
      ],
      "metadata": {
        "id": "rB_FMimaWXSy"
      }
    },
    {
      "cell_type": "code",
      "source": [
        "# Jawaban:\n"
      ],
      "metadata": {
        "id": "MhSnYSy0WWK9"
      },
      "execution_count": null,
      "outputs": []
    },
    {
      "cell_type": "markdown",
      "source": [
        "### Sorting dan Grouping\n",
        "Kita dapat melakukan sorting data dengan menggunakan fungsi `sort_values()` pada Pandas. Secara default, data akan diurutkan dari nilai yang rendah ke tinggi (secara ascending). Akan tetapi, kita juga dapat mengurutkan data dari tinggi ke rendah (descending) dengan cara menambahkan argumen `ascending = False`"
      ],
      "metadata": {
        "id": "-Lx33wYDUTqo"
      }
    },
    {
      "cell_type": "code",
      "source": [
        "# Menggunakan sort_values\n"
      ],
      "metadata": {
        "id": "WEap0Kh9UXLW"
      },
      "execution_count": null,
      "outputs": []
    },
    {
      "cell_type": "code",
      "source": [
        "# Menggunakan sort_values dengan beberapa kolom\n"
      ],
      "metadata": {
        "id": "VhEWXIzVVJEo"
      },
      "execution_count": null,
      "outputs": []
    },
    {
      "cell_type": "markdown",
      "source": [
        "Di Pandas, kita juga dapat melakukan pengelompokan data berdasarkan kolom tertentu menggunakan fungsi `groupby()`"
      ],
      "metadata": {
        "id": "3d5QdhNAtuG1"
      }
    },
    {
      "cell_type": "code",
      "source": [
        "# Grouping berdasarkan product\n"
      ],
      "metadata": {
        "id": "QMBbiK4XtyzT"
      },
      "execution_count": null,
      "outputs": []
    },
    {
      "cell_type": "markdown",
      "source": [
        "Setelah melakukan grouping, kita akan mendapatkan `DataFrameGroupBy object` yang dapat kita gunakan untuk melakukan berbagai analisis dan perhitungan statistik"
      ],
      "metadata": {
        "id": "i5fiq_-st_Nz"
      }
    },
    {
      "cell_type": "code",
      "source": [
        "# Menghitung jumlah dengan count\n"
      ],
      "metadata": {
        "id": "UhiIeOG3t-gI"
      },
      "execution_count": null,
      "outputs": []
    },
    {
      "cell_type": "code",
      "source": [
        "# Menghitung rata-rata pada masing-masing kategori\n"
      ],
      "metadata": {
        "id": "X2sMTwTiu6GE"
      },
      "execution_count": null,
      "outputs": []
    },
    {
      "cell_type": "code",
      "source": [
        "# Menghitung nilai maksimum/minimum\n"
      ],
      "metadata": {
        "id": "76twVTO0vC4K"
      },
      "execution_count": null,
      "outputs": []
    },
    {
      "cell_type": "markdown",
      "source": [
        "Kita juga dapat melakukan beberapa perhitungan sekaligus menggunakan fungsi `agg()`"
      ],
      "metadata": {
        "id": "WJYjpEOvvjQH"
      }
    },
    {
      "cell_type": "code",
      "source": [
        "# Menggunakan agg\n"
      ],
      "metadata": {
        "id": "UGeaYFrhviWt"
      },
      "execution_count": null,
      "outputs": []
    },
    {
      "cell_type": "markdown",
      "source": [
        "#### **Latihan**\n",
        "Berapakah nilai minimum, maksimum, dan rata-rata `Order_Quantity` untuk setiap kategori produk?"
      ],
      "metadata": {
        "id": "dQfLph0LwLI_"
      }
    },
    {
      "cell_type": "code",
      "source": [
        "# Jawaban:\n"
      ],
      "metadata": {
        "id": "drwGyD0YwWFK"
      },
      "execution_count": null,
      "outputs": []
    },
    {
      "cell_type": "markdown",
      "source": [
        "### Visualisasi Data\n",
        "Kita juga dapat melakukan data visualisasi di Pandas yang didukung oleh library [Matplotlib](https://matplotlib.org).\n",
        "\n",
        "Dengan fungsi `plot`, kita dapat menghasilkan berbagai jenis visualisasi data melalui argumen `kind` sebagai berikut:\n",
        "\n",
        "- \"bar\" untuk bar chart (vertikal)\n",
        "- \"barh\" untuk bar chart (horizontal)\n",
        "- \"pie\" untuk pie chart\n",
        "- \"hist\" untuk histogram\n",
        "- \"box\" untuk box plot\n",
        "\n",
        "List lebih lengkap dapat dilihat di link [ini](https://pandas.pydata.org/pandas-docs/stable/user_guide/visualization.html)"
      ],
      "metadata": {
        "id": "HcPWL7jAxe62"
      }
    },
    {
      "cell_type": "code",
      "source": [
        "# Membuat bar chart (vertikal)\n"
      ],
      "metadata": {
        "id": "M-azWVOHym75"
      },
      "execution_count": null,
      "outputs": []
    },
    {
      "cell_type": "markdown",
      "source": [
        "Salah satu fungsi lain yang berguna untuk plotting adalah `value_counts`. Dengan fungsi ini, kita dapat dengan mudah memperoleh jumlah observasi berdasarkan kategori/kolom tertentu"
      ],
      "metadata": {
        "id": "ksGTmT45y4l-"
      }
    },
    {
      "cell_type": "code",
      "source": [
        "# Menggunakan value_counts\n"
      ],
      "metadata": {
        "id": "xdI2FxHVy5Va"
      },
      "execution_count": null,
      "outputs": []
    },
    {
      "cell_type": "code",
      "source": [
        "# Menambahkan title, xlabel, dan ylabel\n"
      ],
      "metadata": {
        "id": "JF_FsMkIzDAZ"
      },
      "execution_count": null,
      "outputs": []
    },
    {
      "cell_type": "code",
      "source": [
        "# Membuat histogram\n"
      ],
      "metadata": {
        "id": "ngykxswLC6TL"
      },
      "execution_count": null,
      "outputs": []
    },
    {
      "cell_type": "code",
      "source": [
        "# Membuat box plot\n"
      ],
      "metadata": {
        "id": "Uw2hqH9tBKqU"
      },
      "execution_count": null,
      "outputs": []
    },
    {
      "cell_type": "markdown",
      "source": [
        "#### **Latihan**\n",
        "Buatlah sebuah pie chart untuk menunjukkan pembagian kategori `Age_Group` pada data penjualan. Tambahkan judul yang sesuai pada pie chart yang dihasilkan."
      ],
      "metadata": {
        "id": "jx9ak7eoGS9y"
      }
    },
    {
      "cell_type": "code",
      "source": [
        "# Jawaban:\n"
      ],
      "metadata": {
        "id": "m_kDIwX_AxM0"
      },
      "execution_count": null,
      "outputs": []
    },
    {
      "cell_type": "markdown",
      "source": [
        "### References:\n",
        "- https://pandas.pydata.org/pandas-docs/stable/getting_started/index.html\n",
        "- https://www.kaggle.com/learn/pandas"
      ],
      "metadata": {
        "id": "OAyTID9KDLoh"
      }
    }
  ]
}